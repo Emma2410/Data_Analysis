{
 "cells": [
  {
   "cell_type": "code",
   "execution_count": 20,
   "id": "8ff84c21",
   "metadata": {},
   "outputs": [],
   "source": [
    "from tkinter import *\n",
    "import tkinter as tk\n",
    "def donothing():\n",
    "    print('Hello World') \n",
    "    \n",
    "root = Tk()\n",
    "menubar= Menu(root)\n",
    "\n",
    "filemenu=Menu(menubar, tearoff=0)\n",
    "filemenu.add_command(label=\"New\", command=donothing) \n",
    "filemenu.add_command(label=\"Open\", command=donothing)\n",
    "filemenu.add_command(label=\"Save\", command=donothing)\n",
    "filemenu.add_command(label=\"Save as...\", command=donothing) \n",
    "filemenu.add_command(label=\"Close\", command=donothing)\n",
    "filemenu.add_separator()\n",
    "filemenu.add_command(label=\"Exit\", command=root.destroy)\n",
    "menubar.add_cascade(label='File', menu=filemenu)\n",
    "\n",
    "editmenu = Menu(menubar, tearoff=0) \n",
    "editmenu.add_command(label=\"Undo\", command=donothing) \n",
    "editmenu.add_separator()\n",
    "editmenu.add_command(label=\"Cut\", command=donothing) \n",
    "editmenu.add_command(label=\"Copy\", command=donothing) \n",
    "editmenu.add_command(label=\"Paste\", command=donothing)\n",
    "editmenu.add_command(label=\"Delete\", command=donothing) \n",
    "editmenu.add_command(label=\"Select All\", command=donothing)\n",
    "menubar.add_cascade(label=\"Edit\", menu=editmenu)\n",
    "\n",
    "root.config(menu=menubar)\n",
    "root.mainloop()"
   ]
  },
  {
   "cell_type": "code",
   "execution_count": 7,
   "id": "17617544",
   "metadata": {},
   "outputs": [],
   "source": [
    "from tkinter import *\n",
    "\n",
    "root = Tk()\n",
    "mylabel = Label(root, text='Hello, Label Widget')\n",
    "mylabel.pack()\n",
    "mybutton = Button(root, text='Click Me',command=root.destroy)\n",
    "mybutton.pack()\n",
    "root.mainloop()"
   ]
  },
  {
   "cell_type": "code",
   "execution_count": 8,
   "id": "32dc83bf",
   "metadata": {},
   "outputs": [],
   "source": [
    "master = Tk()\n",
    "b = Button(master, text='Click Me', height=3, width=10, anchor= CENTER, fg='Blue', \n",
    "           activebackground='Green')\n",
    "b.pack()\n",
    "master.mainloop()"
   ]
  },
  {
   "cell_type": "code",
   "execution_count": 12,
   "id": "86afb13b",
   "metadata": {},
   "outputs": [
    {
     "ename": "TclError",
     "evalue": "image \"pyimage3\" doesn't exist",
     "output_type": "error",
     "traceback": [
      "\u001b[0;31m---------------------------------------------------------------------------\u001b[0m",
      "\u001b[0;31mTclError\u001b[0m                                  Traceback (most recent call last)",
      "\u001b[0;32m<ipython-input-12-2382d8c46cf9>\u001b[0m in \u001b[0;36m<module>\u001b[0;34m\u001b[0m\n\u001b[1;32m      8\u001b[0m \u001b[0mtkim\u001b[0m \u001b[0;34m=\u001b[0m \u001b[0mImageTk\u001b[0m\u001b[0;34m.\u001b[0m\u001b[0mPhotoImage\u001b[0m\u001b[0;34m(\u001b[0m\u001b[0mim\u001b[0m\u001b[0;34m)\u001b[0m\u001b[0;34m\u001b[0m\u001b[0;34m\u001b[0m\u001b[0m\n\u001b[1;32m      9\u001b[0m \u001b[0;34m\u001b[0m\u001b[0m\n\u001b[0;32m---> 10\u001b[0;31m \u001b[0mcanvas\u001b[0m\u001b[0;34m.\u001b[0m\u001b[0mcreate_image\u001b[0m\u001b[0;34m(\u001b[0m\u001b[0;36m0\u001b[0m\u001b[0;34m,\u001b[0m \u001b[0;36m0\u001b[0m\u001b[0;34m,\u001b[0m \u001b[0mimage\u001b[0m\u001b[0;34m=\u001b[0m\u001b[0mtkim\u001b[0m\u001b[0;34m,\u001b[0m \u001b[0manchor\u001b[0m\u001b[0;34m=\u001b[0m\u001b[0;34m'nw'\u001b[0m\u001b[0;34m)\u001b[0m\u001b[0;34m\u001b[0m\u001b[0;34m\u001b[0m\u001b[0m\n\u001b[0m\u001b[1;32m     11\u001b[0m \u001b[0mroot\u001b[0m\u001b[0;34m.\u001b[0m\u001b[0mmainloop\u001b[0m\u001b[0;34m(\u001b[0m\u001b[0;34m)\u001b[0m\u001b[0;34m\u001b[0m\u001b[0;34m\u001b[0m\u001b[0m\n",
      "\u001b[0;32m~/opt/anaconda3/lib/python3.8/tkinter/__init__.py\u001b[0m in \u001b[0;36mcreate_image\u001b[0;34m(self, *args, **kw)\u001b[0m\n\u001b[1;32m   2788\u001b[0m     \u001b[0;32mdef\u001b[0m \u001b[0mcreate_image\u001b[0m\u001b[0;34m(\u001b[0m\u001b[0mself\u001b[0m\u001b[0;34m,\u001b[0m \u001b[0;34m*\u001b[0m\u001b[0margs\u001b[0m\u001b[0;34m,\u001b[0m \u001b[0;34m**\u001b[0m\u001b[0mkw\u001b[0m\u001b[0;34m)\u001b[0m\u001b[0;34m:\u001b[0m\u001b[0;34m\u001b[0m\u001b[0;34m\u001b[0m\u001b[0m\n\u001b[1;32m   2789\u001b[0m         \u001b[0;34m\"\"\"Create image item with coordinates x1,y1.\"\"\"\u001b[0m\u001b[0;34m\u001b[0m\u001b[0;34m\u001b[0m\u001b[0m\n\u001b[0;32m-> 2790\u001b[0;31m         \u001b[0;32mreturn\u001b[0m \u001b[0mself\u001b[0m\u001b[0;34m.\u001b[0m\u001b[0m_create\u001b[0m\u001b[0;34m(\u001b[0m\u001b[0;34m'image'\u001b[0m\u001b[0;34m,\u001b[0m \u001b[0margs\u001b[0m\u001b[0;34m,\u001b[0m \u001b[0mkw\u001b[0m\u001b[0;34m)\u001b[0m\u001b[0;34m\u001b[0m\u001b[0;34m\u001b[0m\u001b[0m\n\u001b[0m\u001b[1;32m   2791\u001b[0m \u001b[0;34m\u001b[0m\u001b[0m\n\u001b[1;32m   2792\u001b[0m     \u001b[0;32mdef\u001b[0m \u001b[0mcreate_line\u001b[0m\u001b[0;34m(\u001b[0m\u001b[0mself\u001b[0m\u001b[0;34m,\u001b[0m \u001b[0;34m*\u001b[0m\u001b[0margs\u001b[0m\u001b[0;34m,\u001b[0m \u001b[0;34m**\u001b[0m\u001b[0mkw\u001b[0m\u001b[0;34m)\u001b[0m\u001b[0;34m:\u001b[0m\u001b[0;34m\u001b[0m\u001b[0;34m\u001b[0m\u001b[0m\n",
      "\u001b[0;32m~/opt/anaconda3/lib/python3.8/tkinter/__init__.py\u001b[0m in \u001b[0;36m_create\u001b[0;34m(self, itemType, args, kw)\u001b[0m\n\u001b[1;32m   2774\u001b[0m         \u001b[0;32melse\u001b[0m\u001b[0;34m:\u001b[0m\u001b[0;34m\u001b[0m\u001b[0;34m\u001b[0m\u001b[0m\n\u001b[1;32m   2775\u001b[0m             \u001b[0mcnf\u001b[0m \u001b[0;34m=\u001b[0m \u001b[0;34m{\u001b[0m\u001b[0;34m}\u001b[0m\u001b[0;34m\u001b[0m\u001b[0;34m\u001b[0m\u001b[0m\n\u001b[0;32m-> 2776\u001b[0;31m         return self.tk.getint(self.tk.call(\n\u001b[0m\u001b[1;32m   2777\u001b[0m             \u001b[0mself\u001b[0m\u001b[0;34m.\u001b[0m\u001b[0m_w\u001b[0m\u001b[0;34m,\u001b[0m \u001b[0;34m'create'\u001b[0m\u001b[0;34m,\u001b[0m \u001b[0mitemType\u001b[0m\u001b[0;34m,\u001b[0m\u001b[0;34m\u001b[0m\u001b[0;34m\u001b[0m\u001b[0m\n\u001b[1;32m   2778\u001b[0m             *(args + self._options(cnf, kw))))\n",
      "\u001b[0;31mTclError\u001b[0m: image \"pyimage3\" doesn't exist"
     ]
    }
   ],
   "source": [
    "from tkinter import Tk, Canvas\n",
    "from PIL import ImageTk, Image\n",
    "\n",
    "root = Tk()\n",
    "canvas = Canvas(root, width = 400, height=300)\n",
    "canvas.pack()\n",
    "im = Image.open('cat.png')\n",
    "tkim = ImageTk.PhotoImage(im)\n",
    "\n",
    "canvas.create_image(0, 0, image=tkim, anchor='nw')\n",
    "root.mainloop()"
   ]
  },
  {
   "cell_type": "code",
   "execution_count": 13,
   "id": "93dd34c4",
   "metadata": {},
   "outputs": [
    {
     "name": "stdout",
     "output_type": "stream",
     "text": [
      "Day: 07 Dec 2022 \n",
      "Time: 14 : 37 : 15 PM\n",
      "\n"
     ]
    }
   ],
   "source": [
    "#display time when click\n",
    "\n",
    "from tkinter import Tk, Button\n",
    "from time import strftime, localtime\n",
    "\n",
    "def clicked():\n",
    "    time = strftime('Day: %d %b %Y \\nTime: %H : %M : %S %p\\n', localtime())\n",
    "    print(time)\n",
    "\n",
    "    \n",
    "root = Tk()\n",
    "but = Button(root, text='click it', command= clicked)\n",
    "but.pack()\n",
    "root.mainloop()"
   ]
  },
  {
   "cell_type": "code",
   "execution_count": 14,
   "id": "869962be",
   "metadata": {},
   "outputs": [],
   "source": [
    "def sel():\n",
    "    selection = \"You selected the option\" + str(var.get())\n",
    "    label.config(text= selection)\n",
    "    \n",
    "root = Tk()\n",
    "var = IntVar()\n",
    "\n",
    "R1 = Radiobutton(root, text='Option1', variable=var, value=1, command= sel)\n",
    "R1.pack(anchor = W)\n",
    "\n",
    "R2 = Radiobutton(root, text=\"Option 2\", variable=var, value=2, command=sel)\n",
    "R2.pack( anchor = W )\n",
    "\n",
    "R3 = Radiobutton(root, text=\"Option 3\", variable=var, value=3, command=sel)\n",
    "R3.pack( anchor = W)\n",
    "label = Label(root)\n",
    "label.pack()\n",
    "root.mainloop()"
   ]
  },
  {
   "cell_type": "code",
   "execution_count": 33,
   "id": "cdd38edd",
   "metadata": {},
   "outputs": [
    {
     "name": "stdout",
     "output_type": "stream",
     "text": [
      "((206, 255, 137), '#ceff89')\n"
     ]
    }
   ],
   "source": [
    "# Exercise \n",
    "\n",
    "from tkinter import *\n",
    "from tkinter import scrolledtext\n",
    "from tkinter import colorchooser\n",
    "from tkinter import font\n",
    "\n",
    "def donothing():\n",
    "    print('Hello World') \n",
    "###############\n",
    "def get_color():\n",
    "    sel_col = colorchooser.askcolor(title='Font Color')\n",
    "    print(sel_col)\n",
    "##############\n",
    "def get_font(event):\n",
    "    selection = lbFonts.curselection()\n",
    "    laExample.config(font=(available_fonts[selection[0]],\"16\"))\n",
    "###########\n",
    "root = Tk()\n",
    "menubar= Menu(root)\n",
    "\n",
    "filemenu=Menu(menubar, tearoff=0)\n",
    "filemenu.add_command(label=\"New\", command=donothing) \n",
    "filemenu.add_command(label=\"Open\", command=donothing)\n",
    "filemenu.add_command(label=\"Save\", command=donothing) \n",
    "filemenu.add_separator()\n",
    "filemenu.add_command(label=\"Exit\", command=root.destroy)\n",
    "menubar.add_cascade(label='File', menu=filemenu)\n",
    "\n",
    "helpmenu = Menu(menubar, tearoff=0)\n",
    "helpmenu.add_command(label='About', command=donothing)\n",
    "menubar.add_cascade(label='Help', menu=helpmenu)\n",
    "\n",
    "root.config(menu=menubar)\n",
    "################\n",
    "button = Button(root, text=\"Font Color\", command=get_color)\n",
    "button.grid(padx=10, pady=2)\n",
    "###############\n",
    "available_fonts = font.families()\n",
    "lbFonts = tk.Listbox(root)\n",
    "lbFonts.grid()\n",
    "\n",
    "for font in available_fonts:\n",
    "    lbFonts.insert(tk.END, font)\n",
    "\n",
    "lbFonts.bind(\"<Double-Button-1>\", get_font)\n",
    "\n",
    "laExample = tk.Label(root,text=\"Click Font\")\n",
    "laExample.grid()\n",
    "################\n",
    "text_area = scrolledtext.ScrolledText()\n",
    "text_area.grid(column = 0, pady = 5, padx = 10)\n",
    "  \n",
    "# Placing cursor in the text area\n",
    "text_area.focus()\n",
    "\n",
    "root.mainloop()\n"
   ]
  },
  {
   "cell_type": "code",
   "execution_count": null,
   "id": "a24be63e",
   "metadata": {},
   "outputs": [],
   "source": [
    "import tkinter as tk\n",
    "from tkinter import ttk\n",
    "\n",
    "# Creating tkinter window\n",
    "window = tk.Tk()\n",
    "window.geometry('350x250')\n",
    "# Label\n",
    "ttk.Label(window, text = \"Select the Month :\",\n",
    "        font = (\"Times New Roman\", 10)).grid(column = 0,\n",
    "\t\trow = 15, padx = 10, pady = 25)\n",
    "\n",
    "n = tk.StringVar()\n",
    "monthchoosen = ttk.Combobox(window, width = 27)\n",
    "\n",
    "# Adding combobox drop down list\n",
    "monthchoosen['values'] = (' January',\n",
    "\t\t\t\t\t\t' February',\n",
    "\t\t\t\t\t\t' March',\n",
    "\t\t\t\t\t\t' April',\n",
    "\t\t\t\t\t\t' May',\n",
    "\t\t\t\t\t\t' June',\n",
    "\t\t\t\t\t\t' July',\n",
    "\t\t\t\t\t\t' August',\n",
    "\t\t\t\t\t\t' September',\n",
    "\t\t\t\t\t\t' October',\n",
    "\t\t\t\t\t\t' November',\n",
    "\t\t\t\t\t\t' December')\n",
    "\n",
    "monthchoosen.grid(column = 1, row = 15)\n",
    "\n",
    "# Shows february as a default value\n",
    "monthchoosen.current(1)\n",
    "window.mainloop()\n"
   ]
  },
  {
   "cell_type": "code",
   "execution_count": null,
   "id": "8fbe0010",
   "metadata": {},
   "outputs": [],
   "source": []
  }
 ],
 "metadata": {
  "kernelspec": {
   "display_name": "Python 3",
   "language": "python",
   "name": "python3"
  },
  "language_info": {
   "codemirror_mode": {
    "name": "ipython",
    "version": 3
   },
   "file_extension": ".py",
   "mimetype": "text/x-python",
   "name": "python",
   "nbconvert_exporter": "python",
   "pygments_lexer": "ipython3",
   "version": "3.8.8"
  }
 },
 "nbformat": 4,
 "nbformat_minor": 5
}
